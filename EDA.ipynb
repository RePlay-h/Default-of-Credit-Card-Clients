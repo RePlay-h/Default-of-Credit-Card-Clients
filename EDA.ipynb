{
 "cells": [
  {
   "cell_type": "code",
   "execution_count": 85,
   "id": "3afc67fb",
   "metadata": {},
   "outputs": [],
   "source": [
    "import pandas as pd\n",
    "import seaborn as sns\n",
    "import numpy as np\n",
    "import matplotlib.pyplot as plt"
   ]
  },
  {
   "cell_type": "code",
   "execution_count": 93,
   "id": "62c1e2be",
   "metadata": {},
   "outputs": [],
   "source": [
    "df = pd.read_excel('data/raw/clients.xls')"
   ]
  },
  {
   "cell_type": "code",
   "execution_count": 94,
   "id": "529ad400",
   "metadata": {},
   "outputs": [
    {
     "data": {
      "text/html": [
       "<div>\n",
       "<style scoped>\n",
       "    .dataframe tbody tr th:only-of-type {\n",
       "        vertical-align: middle;\n",
       "    }\n",
       "\n",
       "    .dataframe tbody tr th {\n",
       "        vertical-align: top;\n",
       "    }\n",
       "\n",
       "    .dataframe thead th {\n",
       "        text-align: right;\n",
       "    }\n",
       "</style>\n",
       "<table border=\"1\" class=\"dataframe\">\n",
       "  <thead>\n",
       "    <tr style=\"text-align: right;\">\n",
       "      <th></th>\n",
       "      <th>Unnamed: 0</th>\n",
       "      <th>X1</th>\n",
       "      <th>X2</th>\n",
       "      <th>X3</th>\n",
       "      <th>X4</th>\n",
       "      <th>X5</th>\n",
       "      <th>X6</th>\n",
       "      <th>X7</th>\n",
       "      <th>X8</th>\n",
       "      <th>X9</th>\n",
       "      <th>...</th>\n",
       "      <th>X15</th>\n",
       "      <th>X16</th>\n",
       "      <th>X17</th>\n",
       "      <th>X18</th>\n",
       "      <th>X19</th>\n",
       "      <th>X20</th>\n",
       "      <th>X21</th>\n",
       "      <th>X22</th>\n",
       "      <th>X23</th>\n",
       "      <th>Y</th>\n",
       "    </tr>\n",
       "  </thead>\n",
       "  <tbody>\n",
       "    <tr>\n",
       "      <th>0</th>\n",
       "      <td>ID</td>\n",
       "      <td>LIMIT_BAL</td>\n",
       "      <td>SEX</td>\n",
       "      <td>EDUCATION</td>\n",
       "      <td>MARRIAGE</td>\n",
       "      <td>AGE</td>\n",
       "      <td>PAY_0</td>\n",
       "      <td>PAY_2</td>\n",
       "      <td>PAY_3</td>\n",
       "      <td>PAY_4</td>\n",
       "      <td>...</td>\n",
       "      <td>BILL_AMT4</td>\n",
       "      <td>BILL_AMT5</td>\n",
       "      <td>BILL_AMT6</td>\n",
       "      <td>PAY_AMT1</td>\n",
       "      <td>PAY_AMT2</td>\n",
       "      <td>PAY_AMT3</td>\n",
       "      <td>PAY_AMT4</td>\n",
       "      <td>PAY_AMT5</td>\n",
       "      <td>PAY_AMT6</td>\n",
       "      <td>default payment next month</td>\n",
       "    </tr>\n",
       "    <tr>\n",
       "      <th>1</th>\n",
       "      <td>1</td>\n",
       "      <td>20000</td>\n",
       "      <td>2</td>\n",
       "      <td>2</td>\n",
       "      <td>1</td>\n",
       "      <td>24</td>\n",
       "      <td>2</td>\n",
       "      <td>2</td>\n",
       "      <td>-1</td>\n",
       "      <td>-1</td>\n",
       "      <td>...</td>\n",
       "      <td>0</td>\n",
       "      <td>0</td>\n",
       "      <td>0</td>\n",
       "      <td>0</td>\n",
       "      <td>689</td>\n",
       "      <td>0</td>\n",
       "      <td>0</td>\n",
       "      <td>0</td>\n",
       "      <td>0</td>\n",
       "      <td>1</td>\n",
       "    </tr>\n",
       "    <tr>\n",
       "      <th>2</th>\n",
       "      <td>2</td>\n",
       "      <td>120000</td>\n",
       "      <td>2</td>\n",
       "      <td>2</td>\n",
       "      <td>2</td>\n",
       "      <td>26</td>\n",
       "      <td>-1</td>\n",
       "      <td>2</td>\n",
       "      <td>0</td>\n",
       "      <td>0</td>\n",
       "      <td>...</td>\n",
       "      <td>3272</td>\n",
       "      <td>3455</td>\n",
       "      <td>3261</td>\n",
       "      <td>0</td>\n",
       "      <td>1000</td>\n",
       "      <td>1000</td>\n",
       "      <td>1000</td>\n",
       "      <td>0</td>\n",
       "      <td>2000</td>\n",
       "      <td>1</td>\n",
       "    </tr>\n",
       "    <tr>\n",
       "      <th>3</th>\n",
       "      <td>3</td>\n",
       "      <td>90000</td>\n",
       "      <td>2</td>\n",
       "      <td>2</td>\n",
       "      <td>2</td>\n",
       "      <td>34</td>\n",
       "      <td>0</td>\n",
       "      <td>0</td>\n",
       "      <td>0</td>\n",
       "      <td>0</td>\n",
       "      <td>...</td>\n",
       "      <td>14331</td>\n",
       "      <td>14948</td>\n",
       "      <td>15549</td>\n",
       "      <td>1518</td>\n",
       "      <td>1500</td>\n",
       "      <td>1000</td>\n",
       "      <td>1000</td>\n",
       "      <td>1000</td>\n",
       "      <td>5000</td>\n",
       "      <td>0</td>\n",
       "    </tr>\n",
       "    <tr>\n",
       "      <th>4</th>\n",
       "      <td>4</td>\n",
       "      <td>50000</td>\n",
       "      <td>2</td>\n",
       "      <td>2</td>\n",
       "      <td>1</td>\n",
       "      <td>37</td>\n",
       "      <td>0</td>\n",
       "      <td>0</td>\n",
       "      <td>0</td>\n",
       "      <td>0</td>\n",
       "      <td>...</td>\n",
       "      <td>28314</td>\n",
       "      <td>28959</td>\n",
       "      <td>29547</td>\n",
       "      <td>2000</td>\n",
       "      <td>2019</td>\n",
       "      <td>1200</td>\n",
       "      <td>1100</td>\n",
       "      <td>1069</td>\n",
       "      <td>1000</td>\n",
       "      <td>0</td>\n",
       "    </tr>\n",
       "  </tbody>\n",
       "</table>\n",
       "<p>5 rows × 25 columns</p>\n",
       "</div>"
      ],
      "text/plain": [
       "  Unnamed: 0         X1   X2         X3        X4   X5     X6     X7     X8  \\\n",
       "0         ID  LIMIT_BAL  SEX  EDUCATION  MARRIAGE  AGE  PAY_0  PAY_2  PAY_3   \n",
       "1          1      20000    2          2         1   24      2      2     -1   \n",
       "2          2     120000    2          2         2   26     -1      2      0   \n",
       "3          3      90000    2          2         2   34      0      0      0   \n",
       "4          4      50000    2          2         1   37      0      0      0   \n",
       "\n",
       "      X9  ...        X15        X16        X17       X18       X19       X20  \\\n",
       "0  PAY_4  ...  BILL_AMT4  BILL_AMT5  BILL_AMT6  PAY_AMT1  PAY_AMT2  PAY_AMT3   \n",
       "1     -1  ...          0          0          0         0       689         0   \n",
       "2      0  ...       3272       3455       3261         0      1000      1000   \n",
       "3      0  ...      14331      14948      15549      1518      1500      1000   \n",
       "4      0  ...      28314      28959      29547      2000      2019      1200   \n",
       "\n",
       "        X21       X22       X23                           Y  \n",
       "0  PAY_AMT4  PAY_AMT5  PAY_AMT6  default payment next month  \n",
       "1         0         0         0                           1  \n",
       "2      1000         0      2000                           1  \n",
       "3      1000      1000      5000                           0  \n",
       "4      1100      1069      1000                           0  \n",
       "\n",
       "[5 rows x 25 columns]"
      ]
     },
     "execution_count": 94,
     "metadata": {},
     "output_type": "execute_result"
    }
   ],
   "source": [
    "df.head()"
   ]
  },
  {
   "cell_type": "markdown",
   "id": "a4611408",
   "metadata": {},
   "source": [
    "# EDA"
   ]
  },
  {
   "cell_type": "code",
   "execution_count": 126,
   "id": "5435054a",
   "metadata": {},
   "outputs": [
    {
     "data": {
      "text/html": [
       "<div>\n",
       "<style scoped>\n",
       "    .dataframe tbody tr th:only-of-type {\n",
       "        vertical-align: middle;\n",
       "    }\n",
       "\n",
       "    .dataframe tbody tr th {\n",
       "        vertical-align: top;\n",
       "    }\n",
       "\n",
       "    .dataframe thead th {\n",
       "        text-align: right;\n",
       "    }\n",
       "</style>\n",
       "<table border=\"1\" class=\"dataframe\">\n",
       "  <thead>\n",
       "    <tr style=\"text-align: right;\">\n",
       "      <th></th>\n",
       "      <th>default payment next month</th>\n",
       "    </tr>\n",
       "  </thead>\n",
       "  <tbody>\n",
       "    <tr>\n",
       "      <th>count</th>\n",
       "      <td>30000.000000</td>\n",
       "    </tr>\n",
       "    <tr>\n",
       "      <th>mean</th>\n",
       "      <td>0.221200</td>\n",
       "    </tr>\n",
       "    <tr>\n",
       "      <th>std</th>\n",
       "      <td>0.415062</td>\n",
       "    </tr>\n",
       "    <tr>\n",
       "      <th>min</th>\n",
       "      <td>0.000000</td>\n",
       "    </tr>\n",
       "    <tr>\n",
       "      <th>25%</th>\n",
       "      <td>0.000000</td>\n",
       "    </tr>\n",
       "    <tr>\n",
       "      <th>50%</th>\n",
       "      <td>0.000000</td>\n",
       "    </tr>\n",
       "    <tr>\n",
       "      <th>75%</th>\n",
       "      <td>0.000000</td>\n",
       "    </tr>\n",
       "    <tr>\n",
       "      <th>max</th>\n",
       "      <td>1.000000</td>\n",
       "    </tr>\n",
       "  </tbody>\n",
       "</table>\n",
       "</div>"
      ],
      "text/plain": [
       "0      default payment next month\n",
       "count                30000.000000\n",
       "mean                     0.221200\n",
       "std                      0.415062\n",
       "min                      0.000000\n",
       "25%                      0.000000\n",
       "50%                      0.000000\n",
       "75%                      0.000000\n",
       "max                      1.000000"
      ]
     },
     "execution_count": 126,
     "metadata": {},
     "output_type": "execute_result"
    }
   ],
   "source": [
    "df.describe()"
   ]
  },
  {
   "cell_type": "code",
   "execution_count": 96,
   "id": "8234e820",
   "metadata": {},
   "outputs": [
    {
     "name": "stdout",
     "output_type": "stream",
     "text": [
      "<class 'pandas.core.frame.DataFrame'>\n",
      "RangeIndex: 30001 entries, 0 to 30000\n",
      "Data columns (total 25 columns):\n",
      " #   Column      Non-Null Count  Dtype \n",
      "---  ------      --------------  ----- \n",
      " 0   Unnamed: 0  30001 non-null  object\n",
      " 1   X1          30001 non-null  object\n",
      " 2   X2          30001 non-null  object\n",
      " 3   X3          30001 non-null  object\n",
      " 4   X4          30001 non-null  object\n",
      " 5   X5          30001 non-null  object\n",
      " 6   X6          30001 non-null  object\n",
      " 7   X7          30001 non-null  object\n",
      " 8   X8          30001 non-null  object\n",
      " 9   X9          30001 non-null  object\n",
      " 10  X10         30001 non-null  object\n",
      " 11  X11         30001 non-null  object\n",
      " 12  X12         30001 non-null  object\n",
      " 13  X13         30001 non-null  object\n",
      " 14  X14         30001 non-null  object\n",
      " 15  X15         30001 non-null  object\n",
      " 16  X16         30001 non-null  object\n",
      " 17  X17         30001 non-null  object\n",
      " 18  X18         30001 non-null  object\n",
      " 19  X19         30001 non-null  object\n",
      " 20  X20         30001 non-null  object\n",
      " 21  X21         30001 non-null  object\n",
      " 22  X22         30001 non-null  object\n",
      " 23  X23         30001 non-null  object\n",
      " 24  Y           30001 non-null  object\n",
      "dtypes: object(25)\n",
      "memory usage: 5.7+ MB\n"
     ]
    }
   ],
   "source": [
    "df.info()"
   ]
  },
  {
   "cell_type": "code",
   "execution_count": 97,
   "id": "1da7a466",
   "metadata": {},
   "outputs": [
    {
     "data": {
      "text/plain": [
       "Unnamed: 0    0\n",
       "X1            0\n",
       "X2            0\n",
       "X3            0\n",
       "X4            0\n",
       "X5            0\n",
       "X6            0\n",
       "X7            0\n",
       "X8            0\n",
       "X9            0\n",
       "X10           0\n",
       "X11           0\n",
       "X12           0\n",
       "X13           0\n",
       "X14           0\n",
       "X15           0\n",
       "X16           0\n",
       "X17           0\n",
       "X18           0\n",
       "X19           0\n",
       "X20           0\n",
       "X21           0\n",
       "X22           0\n",
       "X23           0\n",
       "Y             0\n",
       "dtype: int64"
      ]
     },
     "execution_count": 97,
     "metadata": {},
     "output_type": "execute_result"
    }
   ],
   "source": [
    "df.isna().sum()"
   ]
  },
  {
   "cell_type": "markdown",
   "id": "cd5bc2c4",
   "metadata": {},
   "source": [
    "В данных нет пропущенных значений"
   ]
  },
  {
   "cell_type": "code",
   "execution_count": 98,
   "id": "c6f0c556",
   "metadata": {},
   "outputs": [],
   "source": [
    "cols = df.iloc[0]\n",
    "df = df.iloc[1:]\n",
    "\n",
    "df.columns = cols"
   ]
  },
  {
   "cell_type": "code",
   "execution_count": 100,
   "id": "abade458",
   "metadata": {},
   "outputs": [],
   "source": [
    "sex_map = {1: 'Male', 2: 'Female'}\n",
    "\n",
    "df['default payment next month'] = df['default payment next month'].astype(int)\n",
    "df['SEX'] = df['SEX'].map(sex_map)"
   ]
  },
  {
   "cell_type": "code",
   "execution_count": 101,
   "id": "087a0a59",
   "metadata": {},
   "outputs": [
    {
     "data": {
      "image/png": "[encoded data removed]",
      "text/plain": [
       "<Figure size 640x480 with 1 Axes>"
      ]
     },
     "metadata": {},
     "output_type": "display_data"
    }
   ],
   "source": [
    "\n",
    "sns.countplot(data=df, x='SEX', hue='default payment next month', palette='hls')\n",
    "plt.xlabel('Sex')\n",
    "plt.ylabel('Payment next month')\n",
    "plt.legend(title='Debt status', labels=['Defaulted', 'Paid'])\n",
    "plt.title('Payment Vs Sex')\n",
    "plt.show()"
   ]
  },
  {
   "cell_type": "markdown",
   "id": "0dcc2a23",
   "metadata": {},
   "source": [
    "Остюда можно понять, что женщины чаще берут кредиты, при этом они очень часто невыполняют свои долговые обязательства, однако немного чаще отдают в срок, чем мужчины"
   ]
  },
  {
   "cell_type": "code",
   "execution_count": 103,
   "id": "11469aed",
   "metadata": {},
   "outputs": [],
   "source": [
    "payment_map = {1: \"Paid\", 0: \"Default\"}\n",
    "\n",
    "mean_given_credit = df.groupby('default payment next month')['LIMIT_BAL'].mean().sort_values(ascending=False).reset_index()\n",
    "mean_given_credit['default payment next month'] = mean_given_credit['default payment next month'].map(payment_map)"
   ]
  },
  {
   "cell_type": "code",
   "execution_count": 104,
   "id": "e93be141",
   "metadata": {},
   "outputs": [
    {
     "name": "stderr",
     "output_type": "stream",
     "text": [
      "C:\\Users\\m4rce\\AppData\\Local\\Temp\\ipykernel_14248\\1130952720.py:1: FutureWarning: \n",
      "\n",
      "Passing `palette` without assigning `hue` is deprecated and will be removed in v0.14.0. Assign the `x` variable to `hue` and set `legend=False` for the same effect.\n",
      "\n",
      "  sns.barplot(data=mean_given_credit, x='default payment next month', y='LIMIT_BAL', palette='hls')\n"
     ]
    },
    {
     "data": {
      "text/plain": [
       "Text(0.5, 1.0, 'Mean amount of the given credit vs customers payment')"
      ]
     },
     "execution_count": 104,
     "metadata": {},
     "output_type": "execute_result"
    },
    {
     "data": {
      "image/png": "[encoded data removed]",
      "text/plain": [
       "<Figure size 640x480 with 1 Axes>"
      ]
     },
     "metadata": {},
     "output_type": "display_data"
    }
   ],
   "source": [
    "\n",
    "sns.barplot(data=mean_given_credit, x='default payment next month', y='LIMIT_BAL', palette='hls')\n",
    "plt.xlabel('Payment')\n",
    "plt.ylabel('Mean amount of the given credit')\n",
    "plt.title('Mean amount of the given credit vs customers payment')"
   ]
  },
  {
   "cell_type": "markdown",
   "id": "41c5288e",
   "metadata": {},
   "source": [
    "Исходя из графика, можно понять, что люди, не выполняющие долговые обязательства, в среднем, брали суммы больше, чем те, кто выполнял"
   ]
  },
  {
   "cell_type": "code",
   "execution_count": 131,
   "id": "53c061c0",
   "metadata": {},
   "outputs": [
    {
     "data": {
      "text/html": [
       "<div>\n",
       "<style scoped>\n",
       "    .dataframe tbody tr th:only-of-type {\n",
       "        vertical-align: middle;\n",
       "    }\n",
       "\n",
       "    .dataframe tbody tr th {\n",
       "        vertical-align: top;\n",
       "    }\n",
       "\n",
       "    .dataframe thead th {\n",
       "        text-align: right;\n",
       "    }\n",
       "</style>\n",
       "<table border=\"1\" class=\"dataframe\">\n",
       "  <thead>\n",
       "    <tr style=\"text-align: right;\">\n",
       "      <th></th>\n",
       "      <th>EDUCATION</th>\n",
       "      <th>default payment next month</th>\n",
       "      <th>LIMIT_BAL</th>\n",
       "    </tr>\n",
       "  </thead>\n",
       "  <tbody>\n",
       "    <tr>\n",
       "      <th>0</th>\n",
       "      <td>0</td>\n",
       "      <td>0</td>\n",
       "      <td>217142.857143</td>\n",
       "    </tr>\n",
       "    <tr>\n",
       "      <th>1</th>\n",
       "      <td>1</td>\n",
       "      <td>0</td>\n",
       "      <td>221224.704644</td>\n",
       "    </tr>\n",
       "    <tr>\n",
       "      <th>2</th>\n",
       "      <td>1</td>\n",
       "      <td>1</td>\n",
       "      <td>178236.738703</td>\n",
       "    </tr>\n",
       "    <tr>\n",
       "      <th>3</th>\n",
       "      <td>2</td>\n",
       "      <td>0</td>\n",
       "      <td>157790.280374</td>\n",
       "    </tr>\n",
       "    <tr>\n",
       "      <th>4</th>\n",
       "      <td>2</td>\n",
       "      <td>1</td>\n",
       "      <td>112591.591592</td>\n",
       "    </tr>\n",
       "    <tr>\n",
       "      <th>5</th>\n",
       "      <td>3</td>\n",
       "      <td>0</td>\n",
       "      <td>136138.586957</td>\n",
       "    </tr>\n",
       "    <tr>\n",
       "      <th>6</th>\n",
       "      <td>3</td>\n",
       "      <td>1</td>\n",
       "      <td>98025.610348</td>\n",
       "    </tr>\n",
       "    <tr>\n",
       "      <th>7</th>\n",
       "      <td>4</td>\n",
       "      <td>0</td>\n",
       "      <td>225517.241379</td>\n",
       "    </tr>\n",
       "    <tr>\n",
       "      <th>8</th>\n",
       "      <td>4</td>\n",
       "      <td>1</td>\n",
       "      <td>144285.714286</td>\n",
       "    </tr>\n",
       "    <tr>\n",
       "      <th>9</th>\n",
       "      <td>5</td>\n",
       "      <td>0</td>\n",
       "      <td>170595.419847</td>\n",
       "    </tr>\n",
       "    <tr>\n",
       "      <th>10</th>\n",
       "      <td>5</td>\n",
       "      <td>1</td>\n",
       "      <td>132777.777778</td>\n",
       "    </tr>\n",
       "    <tr>\n",
       "      <th>11</th>\n",
       "      <td>6</td>\n",
       "      <td>0</td>\n",
       "      <td>154186.046512</td>\n",
       "    </tr>\n",
       "    <tr>\n",
       "      <th>12</th>\n",
       "      <td>6</td>\n",
       "      <td>1</td>\n",
       "      <td>116250.0</td>\n",
       "    </tr>\n",
       "  </tbody>\n",
       "</table>\n",
       "</div>"
      ],
      "text/plain": [
       "    EDUCATION  default payment next month      LIMIT_BAL\n",
       "0           0                           0  217142.857143\n",
       "1           1                           0  221224.704644\n",
       "2           1                           1  178236.738703\n",
       "3           2                           0  157790.280374\n",
       "4           2                           1  112591.591592\n",
       "5           3                           0  136138.586957\n",
       "6           3                           1   98025.610348\n",
       "7           4                           0  225517.241379\n",
       "8           4                           1  144285.714286\n",
       "9           5                           0  170595.419847\n",
       "10          5                           1  132777.777778\n",
       "11          6                           0  154186.046512\n",
       "12          6                           1       116250.0"
      ]
     },
     "execution_count": 131,
     "metadata": {},
     "output_type": "execute_result"
    }
   ],
   "source": [
    "df['EDUCATION'] = df['EDUCATION'].astype(int)\n",
    "mean_limit_bal_by_education = (\n",
    "    df.groupby(['EDUCATION', 'default payment next month'])['LIMIT_BAL']\n",
    "    .mean()\n",
    "    .reset_index()\n",
    "    )\n",
    "mean_limit_bal_by_education"
   ]
  },
  {
   "cell_type": "code",
   "execution_count": 141,
   "id": "e9aae634",
   "metadata": {},
   "outputs": [
    {
     "data": {
      "image/png": "[encoded data removed]",
      "text/plain": [
       "<Figure size 640x480 with 1 Axes>"
      ]
     },
     "metadata": {},
     "output_type": "display_data"
    }
   ],
   "source": [
    "ax = sns.barplot(\n",
    "    data=mean_limit_bal_by_education, \n",
    "    x='EDUCATION', \n",
    "    y='LIMIT_BAL', \n",
    "    hue='default payment next month', \n",
    "    palette='viridis',\n",
    "    hue_order=[0, 1]\n",
    "    )\n",
    "\n",
    "handles, labels = ax.get_legend_handles_labels()\n",
    "\n",
    "plt.xlabel('Education')\n",
    "plt.ylabel('Mean amount of the given credit')\n",
    "plt.legend(handles, ['Defaulted', 'Paid'], title=\"Debt status\")\n",
    "plt.title('Mean amount of credit vs education')\n",
    "plt.show()"
   ]
  },
  {
   "cell_type": "markdown",
   "id": "7b687a5c",
   "metadata": {},
   "source": [
    "Исходя из графика, мы понимаем, что люди без определенного образования (цифра 0) никогда не выполняют договые обязательства, а также, в среднем, берут одни из самых больших кредитов. Также видно, люди с высшим образованием (аспирантура, магистратура (цифра - 1)) также берут, в среднем, большие кредиты, но также они являются теми, кто выполняет свои долговые обязательства при взятии больших сумм. Хуже всего дело обстоит с людьми с профессиональными образованиями (цифра - 4), у них, в среднем, самый большой кредит, который они не возвращают"
   ]
  },
  {
   "cell_type": "code",
   "execution_count": null,
   "id": "32f610b2",
   "metadata": {},
   "outputs": [],
   "source": []
  }
 ],
 "metadata": {
  "kernelspec": {
   "display_name": "env",
   "language": "python",
   "name": "python3"
  },
  "language_info": {
   "codemirror_mode": {
    "name": "ipython",
    "version": 3
   },
   "file_extension": ".py",
   "mimetype": "text/x-python",
   "name": "python",
   "nbconvert_exporter": "python",
   "pygments_lexer": "ipython3",
   "version": "3.12.11"
  }
 },
 "nbformat": 4,
 "nbformat_minor": 5
}
